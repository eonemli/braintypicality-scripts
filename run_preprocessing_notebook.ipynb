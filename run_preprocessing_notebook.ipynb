{
 "cells": [
  {
   "cell_type": "code",
   "execution_count": null,
   "metadata": {},
   "outputs": [],
   "source": [
    "from run_preprocessing import runner\n",
    "import glob\n",
    "import re\n",
    "\n",
    "DATADIR = \"/BEE/Connectome/ABCD/\"\n",
    "save_dir = \"abcd_processed_subset_v1\"\n",
    "\n",
    "# Manually choose specific subjects or paths\n",
    "paths = glob.glob(f\"{DATADIR}/ImageData/Data/*/ses-baselineYear1Arm1/anat/*T1w.nii.gz\")\n",
    "subject_ids = [\"NDARINV123ABC\", \"NDARINV456DEF\"]  # example IDs\n",
    "\n",
    "R = re.compile(r\"Data\\/sub-(.*)\\/ses-\")\n",
    "\n",
    "def filter_by_subject(path):\n",
    "    match = R.search(path)\n",
    "    if match:\n",
    "        return match.group(1) in subject_ids\n",
    "    return False\n",
    "\n",
    "filtered_paths = list(filter(filter_by_subject, paths))\n",
    "\n",
    "for path in filtered_paths:\n",
    "    runner(path, dataset=\"ABCD\", save_sub_dir=save_dir)"
   ]
  }
 ],
 "metadata": {
  "language_info": {
   "name": "python"
  }
 },
 "nbformat": 4,
 "nbformat_minor": 2
}
